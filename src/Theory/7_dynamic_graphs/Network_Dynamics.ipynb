{
 "cells": [
  {
   "cell_type": "markdown",
   "metadata": {
    "id": "G30BEalAdHpO"
   },
   "source": [
    "<span>\n",
    "<img src=\"img/dynetx.png\" width=\"220px\" align=\"right\"/>\n",
    "</span>\n",
    "<span>\n",
    "<b>Author:</b> <a href=\"http://about.giuliorossetti.net\">Giulio Rossetti</a><br/>\n",
    "<b>Python version:</b>  >=3.6<br/>\n",
    "<b>DyNetX version:</b>  0.0.1<br/>\n",
    "<b>Last update:</b> 15/02/2021\n",
    "</span>"
   ]
  },
  {
   "cell_type": "markdown",
   "metadata": {
    "id": "c-CQn5x_dHpU"
   },
   "source": [
    "<a id='top'></a>\n",
    "# *Chapter 9: Network Dynamics*\n",
    "\n",
    "In this notebook are introduced basilar snippet to cover dynamic networ modeling and analysis.\n",
    "\n",
    "**Note:** this notebook is purposely not 100% comprehensive, it only discusses the basic things you need to get started."
   ]
  },
  {
   "cell_type": "markdown",
   "metadata": {
    "id": "3wVnMWutdHpV"
   },
   "source": [
    "<a id=\"dynetx\"></a>\n",
    "## DyNetX: a library for dynamic network modeling\n",
    "\n",
    "So far we assumed that a *static* network topology. In real world scenario it is likely to observe nodes (as well as edges) that appear and desapear as time goes by, deeply affecting network structure and connectivity.\n",
    "\n",
    "Indeed, topological transformations have huge implications on how diffusive phenomena unfold.\n",
    "\n",
    "[``DyNetx``](http://dynetx.readthedocs.io/en/latest/) model time-evolving graphs. In the following we briefly introduce some [``DyNetx``](http://dynetx.readthedocs.io/en/latest/) primitives that allows to build and analyse dynamic networks.\n",
    "\n",
    "A dynamic network is a topology having timestamps attached to edges (and/or nodes). As an example:"
   ]
  },
  {
   "cell_type": "markdown",
   "metadata": {
    "id": "d2sJ6vW5dHpW"
   },
   "source": [
    "<img src=\"img/rete.png\" width=\"50%\" align=\"center\"/>"
   ]
  },
  {
   "cell_type": "markdown",
   "metadata": {
    "id": "sLT7R-_NdHpW"
   },
   "source": [
    "[``DyNetx``](http://dynetx.readthedocs.io/en/latest/) is a Python software package that extends [``networkx``](https://networkx.github.io) with dynamic network models and algorithms.\n",
    "\n",
    "We developed [``DyNetx``](http://dynetx.readthedocs.io/en/latest/) as a support library for ``NDlib``. It provides a generic implementation of dynamic network topology that can be used to model directed/undirected\n",
    "- [Snapshot Graphs](#snapshots)\n",
    "- [Interaction Networks](#interactions)"
   ]
  },
  {
   "cell_type": "markdown",
   "metadata": {
    "id": "5o7EBCCsdHpX"
   },
   "source": [
    "    pip install dynetx"
   ]
  },
  {
   "cell_type": "markdown",
   "metadata": {
    "id": "WRDExpCUdHpX"
   },
   "source": [
    "<a id=\"snapshots\"></a>\n",
    "#### Snapshot Graphs ([to top](#top))\n",
    "\n",
    "Often, network history is partitioned into a series of snap- shots, each one of them corresponding either to the state of the network at a time $t$ or to the aggregation of observed interactions during a period. Formally,\n",
    "\n",
    "> A ``Snapshot Graph`` $G_t$ is defined by a temporally ordered set $⟨G_1, G_2\\dots G_t⟩$ of static graphs where each snapshot $G_i = (V_i, E_i)$ is univocally identified by the sets of nodes $V_i$ and edges $E_i$.\n",
    "\n",
    "Network snapshots can be effectively used, for instance, to model a phenomenon that generates network perturbations (almost) at regular intervals. In this scenario, context-dependent temporal windows are used to partition the network history into consecutive snapshots: time-bounded observations describing a precise, static, discretization of the network life.\n",
    "\n",
    "Considering our dynamic network example we can identify the following snapshot graphs:\n",
    "\n",
    "<img src=\"img/ex1.png\" width=\"35%\" align=\"left\"/><img src=\"img/ex2.png\" width=\"25%\" align=\"left\"/><img src=\"img/ex3.png\" width=\"35%\" align=\"left\"/>\n",
    "\n",
    "[``DyNetx``](http://dynetx.readthedocs.io/en/latest/) allows to (among the other things):\n",
    "- List the snapshots of the loaded graph"
   ]
  },
  {
   "cell_type": "markdown",
   "metadata": {
    "id": "w2w7DvAbdHpY"
   },
   "source": [
    "<a id=\"interactions\"></a>\n",
    "#### Interaction networks ([to top](#top))\n",
    "\n",
    "An ``Interaction network`` models a dynamic structure in which both nodes and edges may appear and disappear as time goes by. Usually, ``Intercation network`` are used in absence of a clear aggregation time scale, or when make sense to analyse a dynamic networok as a continuos stream of edges. Formally,\n",
    "\n",
    "> An ``interaction network`` is a graph $G = (V, E, T)$ where: $V$ is a set of triplets of the form $(v, t_s, t_e)$, with $v$ a vertex of the graph and $t_s$, $t_e \\in T$ are respectively the birth and death timestamps of the corresponding vertex (with $t_s \\leq t_e$); $E$ is a set of quadruplets $(u, v, t_s, t_e)$, with $u, v \\in V$ are vertices of the graph and $t_s,t_e \\in T$ are respectively the birth and death timestamps of the corresponding edge (with $t_s \\leq t_e$).\n",
    "\n",
    "Considering our dynamic network example we can identify the following interaction stream:\n",
    "\n",
    "<img src=\"img/ex4.png\"  />\n",
    "\n",
    "[``DyNetx``](http://dynetx.readthedocs.io/en/latest/) allows to to obtain the edge stream of a given dynamic graph."
   ]
  },
  {
   "cell_type": "code",
   "execution_count": 1,
   "metadata": {
    "colab": {
     "base_uri": "https://localhost:8080/"
    },
    "id": "E-lrXKgjdYsD",
    "outputId": "bdafdc2a-f7e5-428c-fa20-371bbc14c3a5"
   },
   "outputs": [
    {
     "name": "stdout",
     "output_type": "stream",
     "text": [
      "Collecting networkx==2.8.8\n",
      "  Using cached networkx-2.8.8-py3-none-any.whl.metadata (5.1 kB)\n",
      "Using cached networkx-2.8.8-py3-none-any.whl (2.0 MB)\n",
      "Installing collected packages: networkx\n",
      "  Attempting uninstall: networkx\n",
      "    Found existing installation: networkx 3.1\n",
      "    Uninstalling networkx-3.1:\n",
      "      Successfully uninstalled networkx-3.1\n",
      "Successfully installed networkx-2.8.8\n"
     ]
    },
    {
     "name": "stderr",
     "output_type": "stream",
     "text": [
      "ERROR: pip's dependency resolver does not currently take into account all the packages that are installed. This behaviour is the source of the following dependency conflicts.\n",
      "angelcommunity 2.0.0 requires networkx>=3.0, but you have networkx 2.8.8 which is incompatible.\n",
      "cdlib 0.4.0 requires networkx>=3.0, but you have networkx 2.8.8 which is incompatible.\n"
     ]
    },
    {
     "name": "stdout",
     "output_type": "stream",
     "text": [
      "Requirement already satisfied: dynetx in d:\\apps\\conda\\envs\\complex\\lib\\site-packages (0.3.2)\n",
      "Requirement already satisfied: numpy in d:\\apps\\conda\\envs\\complex\\lib\\site-packages (from dynetx) (1.24.3)\n",
      "Requirement already satisfied: future in d:\\apps\\conda\\envs\\complex\\lib\\site-packages (from dynetx) (1.0.0)\n",
      "Requirement already satisfied: tqdm in d:\\apps\\conda\\envs\\complex\\lib\\site-packages (from dynetx) (4.66.5)\n",
      "Requirement already satisfied: networkx in d:\\apps\\conda\\envs\\complex\\lib\\site-packages (from dynetx) (2.8.8)\n",
      "Requirement already satisfied: decorator in d:\\apps\\conda\\envs\\complex\\lib\\site-packages (from dynetx) (5.1.1)\n",
      "Requirement already satisfied: colorama in d:\\apps\\conda\\envs\\complex\\lib\\site-packages (from tqdm->dynetx) (0.4.6)\n"
     ]
    }
   ],
   "source": [
    "!pip install networkx==2.8.8\n",
    "!pip install dynetx"
   ]
  },
  {
   "cell_type": "code",
   "execution_count": null,
   "metadata": {
    "id": "uCUQYK-tdHpZ"
   },
   "outputs": [],
   "source": [
    "import dynetx as dn\n",
    "import networkx as nx\n",
    "import random\n",
    "\n",
    "def read_net(filename):\n",
    "    g = nx.Graph()\n",
    "    with open(filename) as f:\n",
    "        f.readline()\n",
    "        for l in f:\n",
    "            l = l.split(\",\")\n",
    "            g.add_edge(l[0], l[1])\n",
    "    return g\n",
    "\n",
    "g = dn.DynGraph() # empty dynamic graph"
   ]
  },
  {
   "cell_type": "code",
   "execution_count": null,
   "metadata": {
    "colab": {
     "base_uri": "https://localhost:8080/"
    },
    "id": "cKDAM1yTewPr",
    "outputId": "7e530426-ab1b-403a-b7ef-9ba088d2d7b6"
   },
   "outputs": [],
   "source": [
    "!unzip asioaf.zip"
   ]
  },
  {
   "cell_type": "markdown",
   "metadata": {
    "id": "LOAi-LqAdHpb"
   },
   "source": [
    "## Dynamic network creation\n",
    "\n",
    "A dynamic network can be built by adding edges with specific appearence time (and eventually, vanishing time).\n",
    "\n",
    "In our example, 10 ER graphs are generated and used to represent different topological evolutions of a same dynamic system."
   ]
  },
  {
   "cell_type": "code",
   "execution_count": null,
   "metadata": {
    "id": "_-uk_WCCdHpb"
   },
   "outputs": [],
   "source": [
    "for t in range(1, 9):\n",
    "    er = read_net(f'asioaf/got-s{t}-edges.csv')#nx.erdos_renyi_graph(random.randint(100, 400), 0.05)\n",
    "    g.add_interactions_from(er.edges, t=t)"
   ]
  },
  {
   "cell_type": "markdown",
   "metadata": {
    "id": "YFHeNJ5bdHpc"
   },
   "source": [
    "We can get the list of snapshot ids with"
   ]
  },
  {
   "cell_type": "code",
   "execution_count": null,
   "metadata": {
    "colab": {
     "base_uri": "https://localhost:8080/"
    },
    "id": "SNGxkoUGdHpc",
    "outputId": "5d1b4000-c4d5-4bbc-e45d-e5a55f5b2c8a"
   },
   "outputs": [
    {
     "data": {
      "text/plain": [
       "[1, 2, 3, 4, 5, 6, 7, 8]"
      ]
     },
     "execution_count": 5,
     "metadata": {},
     "output_type": "execute_result"
    }
   ],
   "source": [
    "g.temporal_snapshots_ids()"
   ]
  },
  {
   "cell_type": "markdown",
   "metadata": {
    "id": "8imGiwe2dHpd"
   },
   "source": [
    "Moreover, we can access each snapshot by its id"
   ]
  },
  {
   "cell_type": "code",
   "execution_count": null,
   "metadata": {
    "id": "JcGoDneKdHpd"
   },
   "outputs": [],
   "source": [
    "g1 = g.time_slice(1)"
   ]
  },
  {
   "cell_type": "code",
   "execution_count": null,
   "metadata": {
    "colab": {
     "base_uri": "https://localhost:8080/"
    },
    "id": "e7Lnpbz1dHpe",
    "outputId": "891ca360-932d-4f39-e208-8d3cfebcf0c0"
   },
   "outputs": [
    {
     "data": {
      "text/plain": [
       "(dynetx.classes.dyngraph.DynGraph, 126, 549)"
      ]
     },
     "execution_count": 7,
     "metadata": {},
     "output_type": "execute_result"
    }
   ],
   "source": [
    "type(g1), g1.number_of_nodes(), g1.number_of_edges()"
   ]
  },
  {
   "cell_type": "markdown",
   "metadata": {
    "id": "mAg-V2jedHpe"
   },
   "source": [
    "Following the same rationale it is possible to obtain timeslices covering any time window"
   ]
  },
  {
   "cell_type": "code",
   "execution_count": null,
   "metadata": {
    "id": "gvyVZ7O4dHpe"
   },
   "outputs": [],
   "source": [
    "g0_3 = g.time_slice(0, 3)"
   ]
  },
  {
   "cell_type": "code",
   "execution_count": null,
   "metadata": {
    "colab": {
     "base_uri": "https://localhost:8080/"
    },
    "id": "4_QxsEbqdHpf",
    "outputId": "a85feaa6-4731-452a-bce7-2c28751ea925"
   },
   "outputs": [
    {
     "data": {
      "text/plain": [
       "(dynetx.classes.dyngraph.DynGraph, 237, 1182, {1: 78.5, 2: 79.0})"
      ]
     },
     "execution_count": 9,
     "metadata": {},
     "output_type": "execute_result"
    }
   ],
   "source": [
    "type(g0_3), g0_3.number_of_nodes(), g0_3.number_of_edges(), g0_3.interactions_per_snapshots()"
   ]
  },
  {
   "cell_type": "markdown",
   "metadata": {
    "id": "gOecmkWxdHpf"
   },
   "source": [
    "If the slice cover a single snapshot it can be analyzed transforming it in a ``networkx`` object, otherwise ``dynetx`` methods need to be applied"
   ]
  },
  {
   "cell_type": "code",
   "execution_count": null,
   "metadata": {
    "id": "Fnc54zzmdHpf"
   },
   "outputs": [],
   "source": [
    "g1_flat = nx.Graph(g1.edges())"
   ]
  },
  {
   "cell_type": "code",
   "execution_count": null,
   "metadata": {
    "colab": {
     "base_uri": "https://localhost:8080/"
    },
    "id": "9TvZKS59dHpf",
    "outputId": "8151f63c-12c4-4365-f076-05a121145938"
   },
   "outputs": [
    {
     "data": {
      "text/plain": [
       "(networkx.classes.graph.Graph, 126, 549)"
      ]
     },
     "execution_count": 11,
     "metadata": {},
     "output_type": "execute_result"
    }
   ],
   "source": [
    "type(g1_flat), g1_flat.number_of_nodes(), g1_flat.number_of_edges()"
   ]
  },
  {
   "cell_type": "markdown",
   "metadata": {
    "id": "rZ1kYNI2dHpg"
   },
   "source": [
    "### Dynamic network measures"
   ]
  },
  {
   "cell_type": "markdown",
   "metadata": {
    "id": "O83GnOwHdHpg"
   },
   "source": [
    "#### Inter event time (Global)\n",
    "\n",
    "Distribution of inter event time (e.g., how much time before a new interaction appears in the graph)"
   ]
  },
  {
   "cell_type": "code",
   "execution_count": null,
   "metadata": {
    "colab": {
     "base_uri": "https://localhost:8080/"
    },
    "id": "uFzW2DlhdHpg",
    "outputId": "60ccda64-68fc-4943-d2ce-5278531cbdf6"
   },
   "outputs": [
    {
     "name": "stdout",
     "output_type": "stream",
     "text": [
      "Number interactions: temporal distance\t{0: 3307, 1: 8}\n"
     ]
    }
   ],
   "source": [
    "r = g.inter_event_time_distribution()\n",
    "print(f\"Number interactions: temporal distance\\t{r}\")"
   ]
  },
  {
   "cell_type": "markdown",
   "metadata": {
    "id": "aQ2GaxCvdHph"
   },
   "source": [
    "#### Inter event time (Node)\n",
    "\n",
    "Distribution of inter event time (e.g., how much time before a new interaction involving a specific node appears in the graph)"
   ]
  },
  {
   "cell_type": "code",
   "execution_count": null,
   "metadata": {
    "colab": {
     "base_uri": "https://localhost:8080/"
    },
    "id": "A1Zy7XlAdHph",
    "outputId": "b5e5b596-2558-4ede-8cbe-78b09ea2a74a"
   },
   "outputs": [
    {
     "name": "stdout",
     "output_type": "stream",
     "text": [
      "Number interactions: temporal distance\t{0: 137, 1: 8}\n"
     ]
    }
   ],
   "source": [
    "r = g.inter_event_time_distribution(\"ARYA\")\n",
    "print(f\"Number interactions: temporal distance\\t{r}\")"
   ]
  },
  {
   "cell_type": "markdown",
   "metadata": {
    "id": "WVHu_X9tdHph"
   },
   "source": [
    "#### Inter event time (Edge)\n",
    "\n",
    "Distribution of inter event time (e.g., how much time before a new interaction among two nodes, u and v, appears in the graph)"
   ]
  },
  {
   "cell_type": "code",
   "execution_count": null,
   "metadata": {
    "id": "5NahI9R1dHpi"
   },
   "outputs": [],
   "source": [
    "u = 'JON'\n",
    "v = 'ARYA'"
   ]
  },
  {
   "cell_type": "code",
   "execution_count": null,
   "metadata": {
    "colab": {
     "base_uri": "https://localhost:8080/"
    },
    "id": "h1aKbHLFdHpi",
    "outputId": "2c57c5c8-fee0-40dd-89e1-7e70f4a3521f"
   },
   "outputs": [
    {
     "name": "stdout",
     "output_type": "stream",
     "text": [
      "Number interactions: temporal distance\t{6: 1, 1: 1}\n"
     ]
    }
   ],
   "source": [
    "r = g.inter_event_time_distribution(u, v)\n",
    "print(f\"Number interactions: temporal distance\\t{r}\")"
   ]
  },
  {
   "cell_type": "markdown",
   "metadata": {
    "id": "U-SxyCNbdHpi"
   },
   "source": [
    "### Degree\n",
    "Degrees can be queried time-wise"
   ]
  },
  {
   "cell_type": "code",
   "execution_count": null,
   "metadata": {
    "colab": {
     "base_uri": "https://localhost:8080/"
    },
    "id": "WEH5JHcudHpi",
    "outputId": "138d1bef-7b9d-4ce9-b1f2-99de503f551f"
   },
   "outputs": [
    {
     "data": {
      "text/plain": [
       "27"
      ]
     },
     "execution_count": 16,
     "metadata": {},
     "output_type": "execute_result"
    }
   ],
   "source": [
    "g.degree(t=2)['ARYA'] # degree of node 0 at time t=2"
   ]
  },
  {
   "cell_type": "markdown",
   "metadata": {
    "id": "YBDW2C6XdHpj"
   },
   "source": [
    "### Coverage\n",
    "\n",
    "The ratio of existing nodes w.r.t. the possible ones."
   ]
  },
  {
   "cell_type": "code",
   "execution_count": null,
   "metadata": {
    "colab": {
     "base_uri": "https://localhost:8080/"
    },
    "id": "7xXaRfIddHpj",
    "outputId": "a22ca85a-269c-44fe-c151-4fd8d7161436"
   },
   "outputs": [
    {
     "data": {
      "text/plain": [
       "0.2977216748768473"
      ]
     },
     "execution_count": 17,
     "metadata": {},
     "output_type": "execute_result"
    }
   ],
   "source": [
    "g.coverage()"
   ]
  },
  {
   "cell_type": "markdown",
   "metadata": {
    "id": "3ccWpKZCdHpj"
   },
   "source": [
    "#### Node contribution\n",
    "\n",
    "Node u coverage of the temporal graph."
   ]
  },
  {
   "cell_type": "code",
   "execution_count": null,
   "metadata": {
    "colab": {
     "base_uri": "https://localhost:8080/"
    },
    "id": "jTk66_h4dHpj",
    "outputId": "0491ef9c-fb5c-4358-a731-9983cbfc2e79"
   },
   "outputs": [
    {
     "data": {
      "text/plain": [
       "0.625"
      ]
     },
     "execution_count": 18,
     "metadata": {},
     "output_type": "execute_result"
    }
   ],
   "source": [
    "g.node_contribution(\"BERIC\")"
   ]
  },
  {
   "cell_type": "markdown",
   "metadata": {
    "id": "hbDuUvtHdHpj"
   },
   "source": [
    "#### Edge contribution\n",
    "\n",
    "Edge (u, v) coverage of the temporal graph."
   ]
  },
  {
   "cell_type": "code",
   "execution_count": null,
   "metadata": {
    "colab": {
     "base_uri": "https://localhost:8080/"
    },
    "id": "V-dsp_9edHpk",
    "outputId": "9ba5216c-7a82-43f4-d666-85e204f772c3"
   },
   "outputs": [
    {
     "data": {
      "text/plain": [
       "0.375"
      ]
     },
     "execution_count": 19,
     "metadata": {},
     "output_type": "execute_result"
    }
   ],
   "source": [
    "g.edge_contribution(u, v)"
   ]
  },
  {
   "cell_type": "markdown",
   "metadata": {
    "id": "kFgmlVFzdHpk"
   },
   "source": [
    "#### Node pair uniformity\n",
    "\n",
    "Overlap between the presence times of u and v."
   ]
  },
  {
   "cell_type": "code",
   "execution_count": null,
   "metadata": {
    "colab": {
     "base_uri": "https://localhost:8080/"
    },
    "id": "tlfO9gy6dHpv",
    "outputId": "6ea1244b-a4eb-400c-a296-7e1cd2d90491"
   },
   "outputs": [
    {
     "data": {
      "text/plain": [
       "1.0"
      ]
     },
     "execution_count": 20,
     "metadata": {},
     "output_type": "execute_result"
    }
   ],
   "source": [
    "g.node_pair_uniformity(u, v)"
   ]
  },
  {
   "cell_type": "markdown",
   "metadata": {
    "id": "v_xQ4yizdHpw"
   },
   "source": [
    "### Density\n",
    "Temporal network density: fraction of possible interactions that do exist in the temporal network."
   ]
  },
  {
   "cell_type": "code",
   "execution_count": null,
   "metadata": {
    "colab": {
     "base_uri": "https://localhost:8080/"
    },
    "id": "Zt44VHwodHpw",
    "outputId": "448b39b0-10db-4c40-d5a1-861ca9520c6f"
   },
   "outputs": [
    {
     "data": {
      "text/plain": [
       "0.06686633244351846"
      ]
     },
     "execution_count": 21,
     "metadata": {},
     "output_type": "execute_result"
    }
   ],
   "source": [
    "g.density()"
   ]
  },
  {
   "cell_type": "markdown",
   "metadata": {
    "id": "b_n1l-_adHpx"
   },
   "source": [
    "#### Node Density\n",
    "Intersection among the temporal presence of the edge (u, v) and the joint temporal presences of u and v."
   ]
  },
  {
   "cell_type": "code",
   "execution_count": null,
   "metadata": {
    "colab": {
     "base_uri": "https://localhost:8080/"
    },
    "id": "cQdAh64CdHpy",
    "outputId": "11bdaf02-c6c9-49aa-9732-cd37a3e472aa"
   },
   "outputs": [
    {
     "data": {
      "text/plain": [
       "0.2295760082730093"
      ]
     },
     "execution_count": 22,
     "metadata": {},
     "output_type": "execute_result"
    }
   ],
   "source": [
    "g.node_density(u)"
   ]
  },
  {
   "cell_type": "markdown",
   "metadata": {
    "id": "gtARsC3wdHpy"
   },
   "source": [
    "#### Pair Density\n",
    "\n",
    "Intersection among the temporal presence of the edge (u, v) and the joint temporal presences of u and v."
   ]
  },
  {
   "cell_type": "code",
   "execution_count": null,
   "metadata": {
    "colab": {
     "base_uri": "https://localhost:8080/"
    },
    "id": "7eGBmqYedHpy",
    "outputId": "0bdce4c8-90f7-483a-f3dc-4dc149ae4416"
   },
   "outputs": [
    {
     "data": {
      "text/plain": [
       "0.375"
      ]
     },
     "execution_count": 23,
     "metadata": {},
     "output_type": "execute_result"
    }
   ],
   "source": [
    "g.pair_density(u, v)"
   ]
  },
  {
   "cell_type": "markdown",
   "metadata": {
    "id": "gf0xet8gdHpy"
   },
   "source": [
    "#### Snapshot Density\n",
    "\n",
    "Density of a temporal network at time t."
   ]
  },
  {
   "cell_type": "code",
   "execution_count": null,
   "metadata": {
    "colab": {
     "base_uri": "https://localhost:8080/"
    },
    "id": "yzloy_3VdHpz",
    "outputId": "d42b5221-b3a6-4515-d972-b1d3891d84ef"
   },
   "outputs": [
    {
     "name": "stdout",
     "output_type": "stream",
     "text": [
      "1\t0.06971428571428571\n",
      "2\t0.05886627906976744\n",
      "3\t0.06608969315499606\n",
      "4\t0.04535563715490276\n",
      "5\t0.05640222190571144\n",
      "6\t0.05404055538907202\n",
      "7\t0.1271604938271605\n",
      "8\t0.20473898556090336\n"
     ]
    }
   ],
   "source": [
    "for t in g.temporal_snapshots_ids():\n",
    "    print(f\"{t}\\t{g.snapshot_density(t)}\")"
   ]
  },
  {
   "cell_type": "markdown",
   "metadata": {
    "id": "6uBY2QY4dHpz"
   },
   "source": [
    "### Path analysis\n",
    "\n",
    "Computes the time respecting paths among u and v within [start, stop]"
   ]
  },
  {
   "cell_type": "code",
   "execution_count": null,
   "metadata": {
    "id": "9_pJsVf0dHpz"
   },
   "outputs": [],
   "source": [
    "import dynetx.algorithms as al\n",
    "paths = al.time_respecting_paths(g, \"GENDRY\", \"GREY_WORM\", start=1, end=5)"
   ]
  },
  {
   "cell_type": "code",
   "execution_count": null,
   "metadata": {
    "colab": {
     "base_uri": "https://localhost:8080/"
    },
    "id": "Mx2R0cEZdHpz",
    "outputId": "6467b10b-8542-4c3d-fa23-927763cfc135"
   },
   "outputs": [
    {
     "data": {
      "text/plain": [
       "(('GENDRY', 'NED', 1),\n",
       " ('NED', 'ROBERT', 2),\n",
       " ('ROBERT', 'BARRISTAN', 3),\n",
       " ('BARRISTAN', 'GREY_WORM', 4))"
      ]
     },
     "execution_count": 26,
     "metadata": {},
     "output_type": "execute_result"
    }
   ],
   "source": [
    "p = paths[(\"GENDRY\", \"GREY_WORM\")][0] # example of identified paths. Each list element is a tuple of the form (from, to, time)\n",
    "p"
   ]
  },
  {
   "cell_type": "markdown",
   "metadata": {
    "id": "qf7KZKlFdHp0"
   },
   "source": [
    "Moreover, it is possible to compute length and duration of a given path"
   ]
  },
  {
   "cell_type": "code",
   "execution_count": null,
   "metadata": {
    "colab": {
     "base_uri": "https://localhost:8080/"
    },
    "id": "Q-TaWJ8FdHp0",
    "outputId": "45450a8d-6141-46a1-c474-d1f7a4d2eadc"
   },
   "outputs": [
    {
     "data": {
      "text/plain": [
       "(3, 4)"
      ]
     },
     "execution_count": 27,
     "metadata": {},
     "output_type": "execute_result"
    }
   ],
   "source": [
    "al.path_duration(p), al.path_length(p)"
   ]
  },
  {
   "cell_type": "markdown",
   "metadata": {
    "id": "WJ6qJgCUdHp0"
   },
   "source": [
    "Among all paths it is possible to identify the most interestin ones using"
   ]
  },
  {
   "cell_type": "code",
   "execution_count": null,
   "metadata": {
    "id": "DXovHVPAdHp1"
   },
   "outputs": [],
   "source": [
    "annotated = al.annotate_paths(paths[(\"GENDRY\", \"GREY_WORM\")])"
   ]
  },
  {
   "cell_type": "code",
   "execution_count": null,
   "metadata": {
    "colab": {
     "base_uri": "https://localhost:8080/"
    },
    "id": "E7wt1OuPdHp1",
    "outputId": "53217469-c38b-49c9-d2fb-f8ca819eaf20"
   },
   "outputs": [
    {
     "data": {
      "text/plain": [
       "[(('GENDRY', 'VARYS', 1), ('VARYS', 'GREY_WORM', 6))]"
      ]
     },
     "execution_count": 29,
     "metadata": {},
     "output_type": "execute_result"
    }
   ],
   "source": [
    "annotated['shortest']"
   ]
  },
  {
   "cell_type": "code",
   "execution_count": null,
   "metadata": {
    "colab": {
     "base_uri": "https://localhost:8080/"
    },
    "id": "RJY1DZArdHp1",
    "outputId": "3e432f68-3e46-4f03-a228-213542d0da58"
   },
   "outputs": [
    {
     "data": {
      "text/plain": [
       "[(('GENDRY', 'TYWIN', 3), ('TYWIN', 'TYRION', 4), ('TYRION', 'GREY_WORM', 5))]"
      ]
     },
     "execution_count": 30,
     "metadata": {},
     "output_type": "execute_result"
    }
   ],
   "source": [
    "annotated['fastest']"
   ]
  },
  {
   "cell_type": "code",
   "execution_count": null,
   "metadata": {
    "colab": {
     "base_uri": "https://localhost:8080/"
    },
    "id": "80TrgnPBdHp2",
    "outputId": "4d1da0df-08fc-4f1a-c416-c2d425b6a29f"
   },
   "outputs": [
    {
     "data": {
      "text/plain": [
       "[[('GENDRY', 'TYWIN', 3), ('TYWIN', 'TYRION', 4), ('TYRION', 'GREY_WORM', 5)]]"
      ]
     },
     "execution_count": 31,
     "metadata": {},
     "output_type": "execute_result"
    }
   ],
   "source": [
    "annotated['shortest_fastest']"
   ]
  },
  {
   "cell_type": "code",
   "execution_count": null,
   "metadata": {
    "colab": {
     "base_uri": "https://localhost:8080/"
    },
    "id": "uO5vQ97VdHp2",
    "outputId": "62e1aead-0490-4cbe-ed59-896afad9367e"
   },
   "outputs": [
    {
     "data": {
      "text/plain": [
       "[[('GENDRY', 'VARYS', 1), ('VARYS', 'GREY_WORM', 6)]]"
      ]
     },
     "execution_count": 32,
     "metadata": {},
     "output_type": "execute_result"
    }
   ],
   "source": [
    "annotated['fastest_shortest']"
   ]
  },
  {
   "cell_type": "code",
   "execution_count": null,
   "metadata": {
    "colab": {
     "base_uri": "https://localhost:8080/"
    },
    "id": "ZGnKN_vWdHp3",
    "outputId": "466464b4-b9b8-4d18-e94c-27b6de12230f"
   },
   "outputs": [
    {
     "data": {
      "text/plain": [
       "[(('GENDRY', 'NED', 1),\n",
       "  ('NED', 'ROBERT', 2),\n",
       "  ('ROBERT', 'BARRISTAN', 3),\n",
       "  ('BARRISTAN', 'GREY_WORM', 4)),\n",
       " (('GENDRY', 'NED', 1),\n",
       "  ('NED', 'ROBERT', 2),\n",
       "  ('ROBERT', 'DAENERYS', 3),\n",
       "  ('DAENERYS', 'GREY_WORM', 4)),\n",
       " (('GENDRY', 'NED', 1),\n",
       "  ('NED', 'ROBERT', 2),\n",
       "  ('ROBERT', 'JORAH', 3),\n",
       "  ('JORAH', 'GREY_WORM', 4))]"
      ]
     },
     "execution_count": 33,
     "metadata": {},
     "output_type": "execute_result"
    }
   ],
   "source": [
    "annotated['foremost']"
   ]
  }
 ],
 "metadata": {
  "colab": {
   "provenance": []
  },
  "kernelspec": {
   "display_name": "complex",
   "language": "python",
   "name": "python3"
  },
  "language_info": {
   "codemirror_mode": {
    "name": "ipython",
    "version": 3
   },
   "file_extension": ".py",
   "mimetype": "text/x-python",
   "name": "python",
   "nbconvert_exporter": "python",
   "pygments_lexer": "ipython3",
   "version": "3.8.19"
  }
 },
 "nbformat": 4,
 "nbformat_minor": 0
}
